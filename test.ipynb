{
 "cells": [
  {
   "cell_type": "code",
   "execution_count": null,
   "metadata": {},
   "outputs": [],
   "source": [
    "import math\n",
    "import random\n",
    "import numpy as np\n",
    "import pandas as pd\n",
    "import tensorflow as tf\n",
    "import matplotlib.pyplot as plt\n",
    "import pandas_datareader as data_reader\n",
    "import yfinance as yf\n",
    "\n",
    "from tqdm import tqdm_notebook, tqdm\n",
    "from collections import deque"
   ]
  },
  {
   "cell_type": "code",
   "execution_count": null,
   "metadata": {},
   "outputs": [],
   "source": [
    "tf.__version__"
   ]
  },
  {
   "cell_type": "code",
   "execution_count": null,
   "metadata": {},
   "outputs": [],
   "source": [
    "class AI_Trader():\n",
    "\n",
    "    def __init__(self, state_size, action_space=3, model_name=\"AITrader\"): #Stay, Buy, Sell\n",
    "                \n",
    "        self.state_size = state_size\n",
    "        self.action_space = action_space\n",
    "        self.memory = deque (maxlen=2000)\n",
    "        self.inventory = []\n",
    "        self.model_name = model_name\n",
    "\n",
    "        self.gama = 0.95\n",
    "        self.epsilon = 1.0\n",
    "        self.epsilon_final = 0.01\n",
    "        self.epsilon_decay = 0.995\n",
    "\n",
    "        self.model = self.model_builder\n",
    "\n",
    "    def model_builder(self):\n",
    "    \n",
    "        model = tf.keras.models.Sequential()\n",
    "\n",
    "        model.add(tf.keras.layers.Dense(units=32, activation='relu', input_dim=self.state_size))\n",
    "\n",
    "        model.add(tf.keras.layers.Dense(units=64, activation='relu'))\n",
    "\n",
    "        model.add(tf.keras.layers.Dense(units=128, activation='relu'))\n",
    "\n",
    "        model.add(tf.keras.layers.Dense(units=self.action_space, activation='linear'))\n",
    "\n",
    "        model.compile(loss='mse', optimzer=tf.keras.optimizer.Adam(lr=0.001))\n",
    "\n",
    "        return model \n",
    "        \n",
    "def trade(self, state):\n",
    "\n",
    "    if random.random() <= self.epsilon:\n",
    "        return random.randrange(self.action_space)\n",
    "    \n",
    "    actions = self.model.predict(state)\n",
    "    return np.argmax(actions[0])\n",
    "\n",
    "\n",
    "def batch_trade(self, batch_data):\n",
    "\n",
    "    batch = []\n",
    "    for i in range(len(self.memory) - batch_size + 1, len(self.memory)):\n",
    "        batch.append(self.memory[i])\n",
    "\n",
    "    for state, action, reward, next_state, done in batch:\n",
    "        reward = reward\n",
    "        if not done:\n",
    "            reward = reward + self.gamma * np.amax(self.model.predict(next_state)[0])\n",
    "\n",
    "        target = self.model.predict(state)\n",
    "        target[0] [action] = reward\n",
    "\n",
    "        self.model.fit(state, target, epochs=1, verboss=0)\n",
    "\n",
    "    if self.epsilon > self.epsilon_final:\n",
    "        self.epsilon *= self.epsilon_decay"
   ]
  },
  {
   "cell_type": "code",
   "execution_count": null,
   "metadata": {},
   "outputs": [],
   "source": [
    "def sigmoid(x):\n",
    "    return 1 / (1 + math.exp(-x))"
   ]
  },
  {
   "cell_type": "code",
   "execution_count": null,
   "metadata": {},
   "outputs": [],
   "source": [
    "def stocks_price_format(n):\n",
    "    if n < 0:\n",
    "        return \"- $ {0:2f}\".format(abs(n))\n",
    "    else:\n",
    "        return \"$ {0:2f}\".format(abs(n))"
   ]
  },
  {
   "cell_type": "code",
   "execution_count": null,
   "metadata": {},
   "outputs": [],
   "source": [
    "import yfinance as yf\n",
    "\n",
    "def dataset_loader(stock_name):\n",
    "    stock_data = yf.download(stock_name)\n",
    "    close = stock_data['Close']\n",
    "    return close\n",
    "\n",
    "# Call the dataset_loader function with the desired stock symbol\n",
    "stock_symbol = \"AAPL\"\n",
    "close_data = dataset_loader(stock_symbol)\n",
    "print(close_data)"
   ]
  },
  {
   "cell_type": "code",
   "execution_count": null,
   "metadata": {},
   "outputs": [],
   "source": [
    "def state_creator(data, timestep, window_size):\n",
    "\n",
    "    starting_id = timestep - window_size + 1\n",
    "\n",
    "    if starting_id >= 0:\n",
    "        window_data = data[starting_id: timestep+1]\n",
    "    else:\n",
    "        windowed_data = - starting_id + [data[0]] + list(data[0:timestep+1])\n",
    "\n",
    "    state = []\n",
    "    for i in range(window_size - 1):\n",
    "        state.append(sigmoid(windowed_data[i+1] - windowed_data[i]))\n",
    "\n",
    "    return np.array ([state])"
   ]
  },
  {
   "cell_type": "code",
   "execution_count": null,
   "metadata": {},
   "outputs": [],
   "source": [
    "stock_name = \"AAPL\"\n",
    "data = dataset_loader(stock_name)"
   ]
  },
  {
   "cell_type": "code",
   "execution_count": null,
   "metadata": {},
   "outputs": [],
   "source": [
    "window_size = 10\n",
    "episodes = 1000\n",
    "\n",
    "batch_size = 32\n",
    "data_samples = len(data) - 1"
   ]
  },
  {
   "cell_type": "markdown",
   "metadata": {},
   "source": [
    "window_size = 10\n",
    "episodes = 1000\n",
    "\n",
    "batch_size = 32\n",
    "data_samples = len(data - 1)"
   ]
  },
  {
   "cell_type": "code",
   "execution_count": null,
   "metadata": {},
   "outputs": [],
   "source": [
    "trader = AI_Trader(window_size)"
   ]
  },
  {
   "cell_type": "code",
   "execution_count": null,
   "metadata": {},
   "outputs": [],
   "source": [
    "trader.model.summary()"
   ]
  }
 ],
 "metadata": {
  "kernelspec": {
   "display_name": "Python 3",
   "language": "python",
   "name": "python3"
  },
  "language_info": {
   "codemirror_mode": {
    "name": "ipython",
    "version": 3
   },
   "file_extension": ".py",
   "mimetype": "text/x-python",
   "name": "python",
   "nbconvert_exporter": "python",
   "pygments_lexer": "ipython3",
   "version": "3.11.4"
  },
  "orig_nbformat": 4
 },
 "nbformat": 4,
 "nbformat_minor": 2
}
